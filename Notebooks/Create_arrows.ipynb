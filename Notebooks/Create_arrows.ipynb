{
 "cells": [
  {
   "cell_type": "code",
   "execution_count": 4,
   "id": "7402b6cb-ae3a-480f-8e29-e4f6158b6af1",
   "metadata": {},
   "outputs": [],
   "source": [
    "from pathlib import Path\n",
    "from typing import List, Optional, Union\n",
    "import os\n",
    "import numpy as np\n",
    "import pandas as pd\n",
    "from gluonts.dataset.arrow import ArrowWriter"
   ]
  },
  {
   "cell_type": "code",
   "execution_count": 29,
   "id": "2b790558-a4bd-42b3-a155-2be68c2c50d1",
   "metadata": {},
   "outputs": [],
   "source": [
    "def convert_to_arrow(\n",
    "    path: Union[str, Path],\n",
    "    time_series: Union[List[np.ndarray], np.ndarray],\n",
    "    start_times: Optional[Union[List[np.datetime64], np.ndarray]] = None,\n",
    "    compression: str = \"lz4\",\n",
    "):\n",
    "    if start_times is None:\n",
    "        # Set an arbitrary start time\n",
    "        start_times = [np.datetime64(\"2000-01-01 00:00\", \"s\")] * len(time_series)\n",
    "    \n",
    "    assert len(time_series) == len(start_times)\n",
    "    \n",
    "    dataset = [\n",
    "        {\"start\": start, \"target\": ts} for ts, start in zip(time_series, start_times)\n",
    "    ]\n",
    "    ArrowWriter(compression=compression).write_to_file(\n",
    "        dataset,\n",
    "        path=path,\n",
    "    )\n",
    "\n",
    "def open_txt_files_in_folder(read_path, save_path):\n",
    "    # List all files in the specified folder\n",
    "    files = os.listdir(read_path)\n",
    "    \n",
    "    # Filter the list to only include .txt files\n",
    "    txt_files = [file for file in files if file.endswith('.txt')]\n",
    "    \n",
    "    time_series_list = []\n",
    "    start_times_list = []\n",
    "    \n",
    "    # Iterate through each .txt file and open it\n",
    "    for txt_file in txt_files:\n",
    "        file_path = os.path.join(read_path, txt_file)\n",
    "        \n",
    "        df = pd.read_csv(file_path, header=0)\n",
    "        \n",
    "        df = df.astype({'datetime': 'datetime64[ns]'})\n",
    "        \n",
    "        # Filter the DataFrame to only include dates before 2022\n",
    "        df = df[df['datetime'] < '2022-01-01']\n",
    "        \n",
    "        time_series = df['close'].values\n",
    "        time_series_list.append(time_series)\n",
    "                       \n",
    "        start_time = df['datetime'].iloc[0]\n",
    "        start_times_list.append(start_time)\n",
    "\n",
    "    time_series_list = np.array(time_series_list, dtype=object)\n",
    "    start_times_list = np.array(start_times_list)\n",
    "    arrows_location = os.path.join(save_path, \"crypto_all.arrow\")\n",
    "    convert_to_arrow(arrows_location, time_series_list, start_times_list)"
   ]
  },
  {
   "cell_type": "code",
   "execution_count": 30,
   "id": "af9d64e0-042d-4443-80aa-a926e7591ce9",
   "metadata": {},
   "outputs": [],
   "source": [
    "if __name__ == \"__main__\":\n",
    "    # Replace 'your_folder_path_here' with the actual path to your folder\n",
    "    folder_30min = r\"..\\Prepared_data\\Firstrate_data_30min\"\n",
    "    save_30min = r\"..\\Arrows\"\n",
    "    open_txt_files_in_folder(folder_30min, save_30min)\n",
    "    "
   ]
  },
  {
   "cell_type": "code",
   "execution_count": null,
   "id": "042e134d-bda4-4475-bbe7-19d8d8bb7958",
   "metadata": {},
   "outputs": [],
   "source": []
  },
  {
   "cell_type": "code",
   "execution_count": null,
   "id": "5ad6df40-1cbf-4a94-9033-fb77ad810c44",
   "metadata": {},
   "outputs": [],
   "source": []
  }
 ],
 "metadata": {
  "kernelspec": {
   "display_name": "Python 3 (ipykernel)",
   "language": "python",
   "name": "python3"
  },
  "language_info": {
   "codemirror_mode": {
    "name": "ipython",
    "version": 3
   },
   "file_extension": ".py",
   "mimetype": "text/x-python",
   "name": "python",
   "nbconvert_exporter": "python",
   "pygments_lexer": "ipython3",
   "version": "3.9.19"
  }
 },
 "nbformat": 4,
 "nbformat_minor": 5
}
